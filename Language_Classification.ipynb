{
 "cells": [
  {
   "cell_type": "markdown",
   "metadata": {},
   "source": [
    "# Определение языка текста методом n-грамм"
   ]
  },
  {
   "cell_type": "code",
   "execution_count": 1,
   "metadata": {
    "collapsed": true,
    "scrolled": true
   },
   "outputs": [],
   "source": [
    "from ClassifyTextLanguage import *\n",
    "from unidecode import unidecode"
   ]
  },
  {
   "cell_type": "markdown",
   "metadata": {},
   "source": [
    "## Исходный текст"
   ]
  },
  {
   "cell_type": "code",
   "execution_count": 2,
   "metadata": {
    "collapsed": true,
    "scrolled": true
   },
   "outputs": [],
   "source": [
    "text = \"\"\"\n",
    "Учените открили, че разликата се дължи на микробите, които се крият в нас. \n",
    "Хората споделят само 20% едни и същи микроби, а всички останали 80% са строго индивидуални. \n",
    "\"\"\""
   ]
  },
  {
   "cell_type": "markdown",
   "metadata": {},
   "source": [
    "### Нормализация текста\n",
    "Отфильтровать пунктуацию и транслитерировать буквы в латиницу."
   ]
  },
  {
   "cell_type": "code",
   "execution_count": 3,
   "metadata": {
    "scrolled": false
   },
   "outputs": [
    {
     "name": "stdout",
     "output_type": "stream",
     "text": [
      "ucheniteotkrilicherazlikatasedlzhinamikrobitekoitosekriiatvnaskhorataspodeliatsamoedniisshchimikrobiavsichkiostanalisastrogoindividualni\n"
     ]
    }
   ],
   "source": [
    "text = filterText(text, transliterate=True)\n",
    "print(text)"
   ]
  },
  {
   "cell_type": "markdown",
   "metadata": {},
   "source": [
    "## Формирование \"отпечатков\" (n-грамм-векторов) для нескольких языков\n",
    "русский <br>\n",
    "украинский <br>\n",
    "беларусский <br>\n",
    "английский <br>\n",
    "ложбан <br>\n",
    "эсперанто <br>\n",
    "польский <br>"
   ]
  },
  {
   "cell_type": "code",
   "execution_count": 4,
   "metadata": {
    "collapsed": true,
    "scrolled": true
   },
   "outputs": [],
   "source": [
    "lang_vectors= {} # {\"lng\": ng_vector, ...}\n",
    "\n",
    "appendNgVectorToBase(\"./data/text_rus.txt\", langName=\"rus\", base=lang_vectors)\n",
    "appendNgVectorToBase(\"./data/text_ukr.txt\", langName=\"ukr\", base=lang_vectors)\n",
    "appendNgVectorToBase(\"./data/text_bel.txt\", langName=\"bel\", base=lang_vectors)\n",
    "appendNgVectorToBase(\"./data/text_blg.txt\", langName=\"blg\", base=lang_vectors)\n",
    "appendNgVectorToBase(\"./data/text_eng.txt\", langName=\"eng\", base=lang_vectors)\n",
    "appendNgVectorToBase(\"./data/text_jbo.txt\", langName=\"jbo\", base=lang_vectors)\n",
    "appendNgVectorToBase(\"./data/text_epo.txt\", langName=\"epo\", base=lang_vectors)\n",
    "appendNgVectorToBase(\"./data/text_pol.txt\", langName=\"pol\", base=lang_vectors)"
   ]
  },
  {
   "cell_type": "markdown",
   "metadata": {},
   "source": [
    "Нормализованный \"отпечаток\" русского языка"
   ]
  },
  {
   "cell_type": "code",
   "execution_count": null,
   "metadata": {
    "collapsed": true
   },
   "outputs": [],
   "source": [
    "lang_vectors['rus']"
   ]
  },
  {
   "cell_type": "markdown",
   "metadata": {},
   "source": [
    "## Определить язык исходного текста\n",
    "по минимальному расстоянию и углу между n-грамм-векторами исходного текса и языков"
   ]
  },
  {
   "cell_type": "code",
   "execution_count": 6,
   "metadata": {},
   "outputs": [
    {
     "name": "stdout",
     "output_type": "stream",
     "text": [
      "distance to rus: 0.8880779331826787\n",
      "distance to ukr: 0.8796986518635981\n",
      "distance to bel: 0.9136315691505863\n",
      "distance to blg: 0.8417791989037031\n",
      "distance to eng: 0.9530235736248742\n",
      "distance to jbo: 0.9562315905743732\n",
      "distance to epo: 0.916827479737553\n",
      "distance to pol: 0.9469515564560695\n",
      "Result (min distance): blg\n"
     ]
    }
   ],
   "source": [
    "result = classifyTextByMinFn(text, lang_vectors, compareNgVectorsByDistance, \"distance to \")\n",
    "print('Result (min distance):', result)"
   ]
  },
  {
   "cell_type": "code",
   "execution_count": 7,
   "metadata": {},
   "outputs": [
    {
     "name": "stdout",
     "output_type": "stream",
     "text": [
      "angle with rus: 0.8405819605585412\n",
      "angle with ukr: 0.9131237163337546\n",
      "angle with bel: 1.047528048328302\n",
      "angle with blg: 0.8164966833030418\n",
      "angle with eng: 1.0092475473300373\n",
      "angle with jbo: 1.0258087174862363\n",
      "angle with epo: 0.8948688090984929\n",
      "angle with pol: 0.9282503455231484\n",
      "Result (min angle): blg\n"
     ]
    }
   ],
   "source": [
    "result = classifyTextByMinFn(text, lang_vectors, compareNgVectorsByAngle, \"angle with \")\n",
    "print('Result (min angle):', result)"
   ]
  }
 ],
 "metadata": {
  "kernelspec": {
   "display_name": "Python 3",
   "language": "python",
   "name": "python3"
  },
  "language_info": {
   "codemirror_mode": {
    "name": "ipython",
    "version": 3
   },
   "file_extension": ".py",
   "mimetype": "text/x-python",
   "name": "python",
   "nbconvert_exporter": "python",
   "pygments_lexer": "ipython3",
   "version": "3.6.1"
  }
 },
 "nbformat": 4,
 "nbformat_minor": 2
}
